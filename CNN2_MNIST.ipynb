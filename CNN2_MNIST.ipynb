{
  "nbformat": 4,
  "nbformat_minor": 0,
  "metadata": {
    "colab": {
      "provenance": [],
      "authorship_tag": "ABX9TyMFQUXyd6y8UBoiIK+M+4Pt",
      "include_colab_link": true
    },
    "kernelspec": {
      "name": "python3",
      "display_name": "Python 3"
    },
    "language_info": {
      "name": "python"
    }
  },
  "cells": [
    {
      "cell_type": "markdown",
      "metadata": {
        "id": "view-in-github",
        "colab_type": "text"
      },
      "source": [
        "<a href=\"https://colab.research.google.com/github/Saichandan37/pytorch-projects/blob/main/CNN2_MNIST.ipynb\" target=\"_parent\"><img src=\"https://colab.research.google.com/assets/colab-badge.svg\" alt=\"Open In Colab\"/></a>"
      ]
    },
    {
      "cell_type": "code",
      "source": [
        "import torch\n",
        "import torch.nn as nn\n",
        "import torchvision\n",
        "class CNN(nn.Module):\n",
        "  def __init__(self):\n",
        "    super().__init__()\n",
        "    self.conv=nn.Sequential(\n",
        "        nn.Conv2d(in_channels=1,out_channels=16,kernel_size=3,stride=1,padding=2),\n",
        "        nn.MaxPool2d(stride=2,kernel_size=2),\n",
        "        nn.ReLU(),\n",
        "        nn.Conv2d(in_channels=16,out_channels=32,kernel_size=3,stride=1,padding=1),\n",
        "        nn.MaxPool2d(kernel_size=2,stride=2),\n",
        "        nn.ReLU()\n",
        "\n",
        "    )\n",
        "    # Calculate the input size for the linear layer\n",
        "    # The output size of the last conv layer for a 28x28 input image\n",
        "    # after the two conv and maxpool layers with the specified parameters\n",
        "    # is 32 * 7 * 7.\n",
        "    self.fc=nn.Sequential(\n",
        "        nn.Dropout(0.2),\n",
        "        nn.Linear(in_features=32*7*7,out_features=64),\n",
        "        nn.ReLU(),\n",
        "        nn.Linear(in_features=64,out_features=10)\n",
        "    )\n",
        "\n",
        "  def forward(self,x):\n",
        "    out=self.conv(x)\n",
        "    out=out.view(out.size(0),-1)\n",
        "    out=self.fc(out)\n",
        "    return out"
      ],
      "metadata": {
        "id": "rWwX9HM9xakk"
      },
      "execution_count": 36,
      "outputs": []
    },
    {
      "cell_type": "code",
      "source": [
        "model=CNN()"
      ],
      "metadata": {
        "id": "nv4ohXuSxfKT"
      },
      "execution_count": 37,
      "outputs": []
    },
    {
      "cell_type": "code",
      "execution_count": 38,
      "metadata": {
        "colab": {
          "base_uri": "https://localhost:8080/"
        },
        "id": "gHkCjuREwDVt",
        "outputId": "b8ba1fc7-32e4-4616-99cc-df7d66b2fe2a"
      },
      "outputs": [
        {
          "output_type": "stream",
          "name": "stdout",
          "text": [
            "torch.Size([1, 1, 28, 28])\n",
            "Predicted Digit: 6\n",
            "Digit 0: 0.00%\n",
            "Digit 1: 0.00%\n",
            "Digit 2: 0.00%\n",
            "Digit 3: 0.00%\n",
            "Digit 4: 0.00%\n",
            "Digit 5: 0.02%\n",
            "Digit 6: 99.97%\n",
            "Digit 7: 0.00%\n",
            "Digit 8: 0.00%\n",
            "Digit 9: 0.00%\n"
          ]
        }
      ],
      "source": [
        "from PIL import Image,ImageOps\n",
        "from torchvision import transforms\n",
        "import torch\n",
        "from torch.nn import functional as F\n",
        "\n",
        "\n",
        "image=Image.open('digit1.png').convert('L')\n",
        "image = ImageOps.invert(image)  # <- crucial line\n",
        "transform=transforms.Compose([transforms.ToTensor(),transforms.Grayscale(),\n",
        "    transforms.Resize((28, 28)),transforms.Normalize((0.5,), (0.5,))])\n",
        "tensor_image=transform(image).unsqueeze(0)\n",
        "print(tensor_image.shape)\n",
        "\n",
        "model.load_state_dict(torch.load(\"CNN_MNIST.pth\"))\n",
        "model.eval()\n",
        "with torch.no_grad():\n",
        "    output = model(tensor_image)\n",
        "    probs = F.softmax(output, dim=1)\n",
        "    predicted = torch.argmax(probs, dim=1)\n",
        "\n",
        "print(\"Predicted Digit:\", predicted.item())\n",
        "\n",
        "for i, p in enumerate(probs[0]):\n",
        "    print(f\"Digit {i}: {p.item()*100:.2f}%\")"
      ]
    },
    {
      "cell_type": "code",
      "source": [
        "import matplotlib.pyplot as plt\n",
        "\n",
        "plt.imshow(image,cmap='grey')"
      ],
      "metadata": {
        "colab": {
          "base_uri": "https://localhost:8080/",
          "height": 452
        },
        "id": "mMydwyHmzWKU",
        "outputId": "d5d62f5b-5fbb-42d0-ee95-5e4f92d1c64a"
      },
      "execution_count": 39,
      "outputs": [
        {
          "output_type": "execute_result",
          "data": {
            "text/plain": [
              "<matplotlib.image.AxesImage at 0x781c8d85eff0>"
            ]
          },
          "metadata": {},
          "execution_count": 39
        },
        {
          "output_type": "display_data",
          "data": {
            "text/plain": [
              "<Figure size 640x480 with 1 Axes>"
            ],
            "image/png": "[encoded data removed]"
          },
          "metadata": {}
        }
      ]
    },
    {
      "cell_type": "code",
      "source": [],
      "metadata": {
        "id": "s-5TO7yF2PwX"
      },
      "execution_count": 39,
      "outputs": []
    }
  ]
}